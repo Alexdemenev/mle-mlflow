{
 "cells": [
  {
   "cell_type": "code",
   "execution_count": 2,
   "metadata": {},
   "outputs": [],
   "source": [
    "import sys\n",
    "# !{sys.executable} -m pip  install optuna\n",
    "# !{sys.executable} -m pip  install mlxtend"
   ]
  },
  {
   "cell_type": "code",
   "execution_count": 2,
   "metadata": {},
   "outputs": [
    {
     "name": "stderr",
     "output_type": "stream",
     "text": [
      "/home/mle-user/.local/lib/python3.10/site-packages/pydantic/_internal/_fields.py:149: UserWarning: Field \"model_server_url\" has conflict with protected namespace \"model_\".\n",
      "\n",
      "You may be able to resolve this warning by setting `model_config['protected_namespaces'] = ()`.\n",
      "  warnings.warn(\n",
      "/home/mle-user/.local/lib/python3.10/site-packages/pydantic/_internal/_config.py:321: UserWarning: Valid config keys have changed in V2:\n",
      "* 'schema_extra' has been renamed to 'json_schema_extra'\n",
      "  warnings.warn(message, UserWarning)\n"
     ]
    }
   ],
   "source": [
    "import os\n",
    "\n",
    "import psycopg\n",
    "import pandas as pd\n",
    "import mlflow\n",
    "from catboost import CatBoostClassifier\n",
    "from mlxtend.feature_selection import SequentialFeatureSelector as SFS\n",
    "from mlxtend.plotting import plot_sequential_feature_selection as plot_sfs\n",
    "from sklearn.ensemble import RandomForestClassifier\n",
    "from sklearn.model_selection import train_test_split\n",
    "import matplotlib.pyplot as plt\n",
    "\n",
    "TABLE_NAME = 'users_churn'\n",
    "TRACKING_SERVER_HOST = \"127.0.0.1\"\n",
    "TRACKING_SERVER_PORT = 5000\n",
    "\n",
    "EXPERIMENT_NAME = 'churn_task_alexdem'\n",
    "RUN_NAME = \"feature_selection\"\n",
    "REGISTRY_MODEL_NAME = 'churn_model_alexdem_b2c'\n",
    "FS_ASSETS = \"fs_assets\" \n"
   ]
  },
  {
   "cell_type": "markdown",
   "metadata": {},
   "source": [
    "### Загрузка данных"
   ]
  },
  {
   "cell_type": "code",
   "execution_count": 3,
   "metadata": {},
   "outputs": [],
   "source": [
    "# credentials\n",
    "\n",
    "connection = {\"sslmode\": \"require\", \"target_session_attrs\": \"read-write\"}\n",
    "postgres_credentials = {\n",
    "    \"host\": os.getenv(\"DB_DESTINATION_HOST\"),\n",
    "    \"port\": os.getenv(\"DB_DESTINATION_PORT\"),\n",
    "    \"dbname\": os.getenv(\"DB_DESTINATION_NAME\"),\n",
    "    \"user\": os.getenv(\"DB_DESTINATION_USER\"),\n",
    "    \"password\": os.getenv(\"DB_DESTINATION_PASSWORD\"),\n",
    "}\n",
    "\n",
    "connection.update(postgres_credentials)\n",
    "\n",
    "TABLE_NAME = 'users_churn'\n"
   ]
  },
  {
   "cell_type": "code",
   "execution_count": 4,
   "metadata": {},
   "outputs": [
    {
     "data": {
      "text/html": [
       "<div>\n",
       "<style scoped>\n",
       "    .dataframe tbody tr th:only-of-type {\n",
       "        vertical-align: middle;\n",
       "    }\n",
       "\n",
       "    .dataframe tbody tr th {\n",
       "        vertical-align: top;\n",
       "    }\n",
       "\n",
       "    .dataframe thead th {\n",
       "        text-align: right;\n",
       "    }\n",
       "</style>\n",
       "<table border=\"1\" class=\"dataframe\">\n",
       "  <thead>\n",
       "    <tr style=\"text-align: right;\">\n",
       "      <th></th>\n",
       "      <th>id</th>\n",
       "      <th>customer_id</th>\n",
       "      <th>begin_date</th>\n",
       "      <th>end_date</th>\n",
       "      <th>type</th>\n",
       "      <th>paperless_billing</th>\n",
       "      <th>payment_method</th>\n",
       "      <th>monthly_charges</th>\n",
       "      <th>total_charges</th>\n",
       "      <th>internet_service</th>\n",
       "      <th>...</th>\n",
       "      <th>device_protection</th>\n",
       "      <th>tech_support</th>\n",
       "      <th>streaming_tv</th>\n",
       "      <th>gender</th>\n",
       "      <th>streaming_movies</th>\n",
       "      <th>senior_citizen</th>\n",
       "      <th>partner</th>\n",
       "      <th>dependents</th>\n",
       "      <th>multiple_lines</th>\n",
       "      <th>target</th>\n",
       "    </tr>\n",
       "  </thead>\n",
       "  <tbody>\n",
       "    <tr>\n",
       "      <th>0</th>\n",
       "      <td>1</td>\n",
       "      <td>7590-VHVEG</td>\n",
       "      <td>2020-01-01</td>\n",
       "      <td>NaT</td>\n",
       "      <td>Month-to-month</td>\n",
       "      <td>Yes</td>\n",
       "      <td>Electronic check</td>\n",
       "      <td>29.85</td>\n",
       "      <td>29.85</td>\n",
       "      <td>DSL</td>\n",
       "      <td>...</td>\n",
       "      <td>No</td>\n",
       "      <td>No</td>\n",
       "      <td>No</td>\n",
       "      <td>Female</td>\n",
       "      <td>No</td>\n",
       "      <td>0</td>\n",
       "      <td>Yes</td>\n",
       "      <td>No</td>\n",
       "      <td>None</td>\n",
       "      <td>0</td>\n",
       "    </tr>\n",
       "    <tr>\n",
       "      <th>1</th>\n",
       "      <td>2</td>\n",
       "      <td>5575-GNVDE</td>\n",
       "      <td>2017-04-01</td>\n",
       "      <td>NaT</td>\n",
       "      <td>One year</td>\n",
       "      <td>No</td>\n",
       "      <td>Mailed check</td>\n",
       "      <td>56.95</td>\n",
       "      <td>1889.50</td>\n",
       "      <td>DSL</td>\n",
       "      <td>...</td>\n",
       "      <td>Yes</td>\n",
       "      <td>No</td>\n",
       "      <td>No</td>\n",
       "      <td>Male</td>\n",
       "      <td>No</td>\n",
       "      <td>0</td>\n",
       "      <td>No</td>\n",
       "      <td>No</td>\n",
       "      <td>No</td>\n",
       "      <td>0</td>\n",
       "    </tr>\n",
       "  </tbody>\n",
       "</table>\n",
       "<p>2 rows × 22 columns</p>\n",
       "</div>"
      ],
      "text/plain": [
       "   id customer_id begin_date end_date            type paperless_billing  \\\n",
       "0   1  7590-VHVEG 2020-01-01      NaT  Month-to-month               Yes   \n",
       "1   2  5575-GNVDE 2017-04-01      NaT        One year                No   \n",
       "\n",
       "     payment_method  monthly_charges  total_charges internet_service  ...  \\\n",
       "0  Electronic check            29.85          29.85              DSL  ...   \n",
       "1      Mailed check            56.95        1889.50              DSL  ...   \n",
       "\n",
       "  device_protection tech_support streaming_tv  gender streaming_movies  \\\n",
       "0                No           No           No  Female               No   \n",
       "1               Yes           No           No    Male               No   \n",
       "\n",
       "  senior_citizen partner  dependents multiple_lines target  \n",
       "0              0     Yes          No           None      0  \n",
       "1              0      No          No             No      0  \n",
       "\n",
       "[2 rows x 22 columns]"
      ]
     },
     "execution_count": 4,
     "metadata": {},
     "output_type": "execute_result"
    }
   ],
   "source": [
    "with psycopg.connect(**connection) as conn:\n",
    "\n",
    "    with conn.cursor() as cur:\n",
    "        cur.execute(f\"SELECT * FROM {TABLE_NAME}\")\n",
    "        data = cur.fetchall()\n",
    "        columns = [col[0] for col in cur.description]\n",
    "\n",
    "df = pd.DataFrame(data, columns=columns)\n",
    "\n",
    "df.head(2) "
   ]
  },
  {
   "cell_type": "code",
   "execution_count": 5,
   "metadata": {},
   "outputs": [],
   "source": [
    "cat_features = [\n",
    "    'paperless_billing',\n",
    "    'payment_method',\n",
    "    'internet_service',\n",
    "    'online_security',\n",
    "    'online_backup',\n",
    "    'device_protection',\n",
    "    'tech_support',\n",
    "    'streaming_tv',\n",
    "    'streaming_movies',\n",
    "    'gender',\n",
    "    'senior_citizen',\n",
    "    'partner',\n",
    "    'dependents',\n",
    "    'multiple_lines',\n",
    "    'type'\n",
    "]\n",
    "num_features = [\"monthly_charges\", \"total_charges\"]\n",
    "target = ['target'] # колонка с таргетом вашей модели\n",
    "df[num_features] = df[num_features].fillna(0)\n",
    "\n",
    "df['senior_citizen'] = df['senior_citizen'].map({1:'Yes', 0:'No'})"
   ]
  },
  {
   "cell_type": "code",
   "execution_count": 6,
   "metadata": {},
   "outputs": [],
   "source": [
    "X_train, X_test, y_train, y_test = train_test_split(df[cat_features + num_features], df['target'], test_size=0.4)\n",
    "X_test, X_val, y_test, y_val = train_test_split(X_test, y_test, test_size=0.5)"
   ]
  },
  {
   "cell_type": "markdown",
   "metadata": {},
   "source": [
    "### Отбор признаков"
   ]
  },
  {
   "cell_type": "code",
   "execution_count": 7,
   "metadata": {},
   "outputs": [],
   "source": [
    "import numpy as np"
   ]
  },
  {
   "cell_type": "code",
   "execution_count": 27,
   "metadata": {},
   "outputs": [],
   "source": [
    "TRACKING_SERVER_HOST = \"127.0.0.1\"\n",
    "TRACKING_SERVER_PORT = 5000\n",
    "\n",
    "os.environ[\"MLFLOW_S3_ENDPOINT_URL\"] = \"https://storage.yandexcloud.net\"\n",
    "os.environ[\"AWS_ACCESS_KEY_ID\"] = os.getenv(\"AWS_ACCESS_KEY_ID\")\n",
    "os.environ[\"AWS_SECRET_ACCESS_KEY\"] = os.getenv(\"AWS_SECRET_ACCESS_KEY\")\n",
    "\n",
    "mlflow.set_tracking_uri(f\"http://{TRACKING_SERVER_HOST}:{TRACKING_SERVER_PORT}\")\n",
    "mlflow.set_registry_uri(f\"http://{TRACKING_SERVER_HOST}:{TRACKING_SERVER_PORT}\")\n",
    "\n",
    "EXPERIMENT_NAME = 'churn_preprocessing_alexndem'\n",
    "RUN_NAME = \"feature_selection\" \n",
    "REGISTRY_MODEL_NAME = 'churn_model_alexndem'\n",
    "\n",
    "FS_ASSETS = \"fs_assets\" "
   ]
  },
  {
   "cell_type": "code",
   "execution_count": 9,
   "metadata": {},
   "outputs": [
    {
     "name": "stderr",
     "output_type": "stream",
     "text": [
      "/home/mle-user/.local/lib/python3.10/site-packages/tqdm/auto.py:21: TqdmWarning: IProgress not found. Please update jupyter and ipywidgets. See https://ipywidgets.readthedocs.io/en/stable/user_install.html\n",
      "  from .autonotebook import tqdm as notebook_tqdm\n",
      "Downloading artifacts: 100%|██████████| 5/5 [00:00<00:00, 18.42it/s]\n"
     ]
    }
   ],
   "source": [
    "logged_transformer = 'runs:/01e47211b28c4a6cbc96fc7f9302b453/column_transformer'\n",
    "\n",
    "# Load model\n",
    "logged_transformer = mlflow.sklearn.load_model(logged_transformer)"
   ]
  },
  {
   "cell_type": "code",
   "execution_count": null,
   "metadata": {},
   "outputs": [],
   "source": []
  },
  {
   "cell_type": "code",
   "execution_count": 10,
   "metadata": {},
   "outputs": [],
   "source": [
    "X_train_features = logged_transformer.transform(X_train)\n",
    "X_train_features = pd.DataFrame(X_train_features, columns=logged_transformer.get_feature_names_out())\n",
    "\n",
    "X_test_features = logged_transformer.transform(X_test)\n",
    "X_test_features = pd.DataFrame(X_test_features, columns=logged_transformer.get_feature_names_out())\n",
    "\n",
    "X_val_features = logged_transformer.transform(X_val)\n",
    "X_val_features = pd.DataFrame(X_val_features, columns=logged_transformer.get_feature_names_out())\n"
   ]
  },
  {
   "cell_type": "code",
   "execution_count": 21,
   "metadata": {},
   "outputs": [],
   "source": [
    "feature_names = [feature for feature in logged_transformer.get_feature_names_out() if not ('num__spl' in feature or 'num__pol' in feature)]\n",
    "\n",
    "X_train_features = X_train_features[feature_names]\n",
    "X_test_features = X_test_features[feature_names]\n",
    "X_val_features = X_val_features[feature_names]\n",
    "\n"
   ]
  },
  {
   "cell_type": "code",
   "execution_count": 22,
   "metadata": {},
   "outputs": [
    {
     "name": "stderr",
     "output_type": "stream",
     "text": [
      "[Parallel(n_jobs=-1)]: Using backend LokyBackend with 2 concurrent workers.\n"
     ]
    },
    {
     "name": "stderr",
     "output_type": "stream",
     "text": [
      "\n",
      "[2025-06-04 19:54:53] Features: 1/10 -- score: 0.6766239240734837[Parallel(n_jobs=-1)]: Using backend LokyBackend with 2 concurrent workers.\n",
      "\n",
      "[2025-06-04 19:55:21] Features: 2/10 -- score: 0.763664832886511[Parallel(n_jobs=-1)]: Using backend LokyBackend with 2 concurrent workers.\n",
      "\n",
      "[2025-06-04 19:55:46] Features: 3/10 -- score: 0.7953317104014873[Parallel(n_jobs=-1)]: Using backend LokyBackend with 2 concurrent workers.\n",
      "\n",
      "[2025-06-04 19:56:11] Features: 4/10 -- score: 0.8134389171246915[Parallel(n_jobs=-1)]: Using backend LokyBackend with 2 concurrent workers.\n",
      "\n",
      "[2025-06-04 19:56:33] Features: 5/10 -- score: 0.8230127946915197[Parallel(n_jobs=-1)]: Using backend LokyBackend with 2 concurrent workers.\n",
      "\n",
      "[2025-06-04 19:56:54] Features: 6/10 -- score: 0.8259858138696738[Parallel(n_jobs=-1)]: Using backend LokyBackend with 2 concurrent workers.\n",
      "\n",
      "[2025-06-04 19:57:13] Features: 7/10 -- score: 0.8273538893231216[Parallel(n_jobs=-1)]: Using backend LokyBackend with 2 concurrent workers.\n",
      "\n",
      "[2025-06-04 19:57:30] Features: 8/10 -- score: 0.821489219609997[Parallel(n_jobs=-1)]: Using backend LokyBackend with 2 concurrent workers.\n",
      "\n",
      "[2025-06-04 19:57:46] Features: 9/10 -- score: 0.8186003217057093[Parallel(n_jobs=-1)]: Using backend LokyBackend with 2 concurrent workers.\n",
      "\n",
      "[2025-06-04 19:58:00] Features: 10/10 -- score: 0.8096644343151903[Parallel(n_jobs=-1)]: Using backend LokyBackend with 2 concurrent workers.\n",
      "\n",
      "[2025-06-04 19:58:57] Features: 13/10 -- score: 0.8086348864251778[Parallel(n_jobs=-1)]: Using backend LokyBackend with 2 concurrent workers.\n",
      "\n",
      "[2025-06-04 19:59:48] Features: 12/10 -- score: 0.8075951461998973[Parallel(n_jobs=-1)]: Using backend LokyBackend with 2 concurrent workers.\n",
      "\n",
      "[2025-06-04 20:00:35] Features: 11/10 -- score: 0.8075315776350678[Parallel(n_jobs=-1)]: Using backend LokyBackend with 2 concurrent workers.\n",
      "\n",
      "[2025-06-04 20:01:22] Features: 10/10 -- score: 0.8089190455317122"
     ]
    }
   ],
   "source": [
    "estimator = RandomForestClassifier(n_estimators=300)\n",
    "\n",
    "sfs = SFS(estimator, k_features=10, forward=True, floating=False, scoring='roc_auc', verbose=2, cv=4, n_jobs=-1)\n",
    "sbs = SFS(estimator=estimator, k_features=10, forward=False, cv=4, scoring='roc_auc', floating=False, verbose=2, n_jobs=-1)\n",
    "\n",
    "sfs = sfs.fit(X_train_features, y_train)\n",
    "sbs = sbs.fit(X_train_features, y_train)\n",
    "\n"
   ]
  },
  {
   "cell_type": "code",
   "execution_count": 23,
   "metadata": {},
   "outputs": [
    {
     "name": "stdout",
     "output_type": "stream",
     "text": [
      "\n",
      "Sequential Forward Selection (k=10)\n",
      "CV Score:\n",
      "0.8096644343151903\n",
      "\n",
      "Sequential Backward Selection\n",
      "CV Score:\n",
      "0.8089190455317122\n"
     ]
    }
   ],
   "source": [
    "top_sfs = sfs.k_feature_names_\n",
    "top_sbs = sbs.k_feature_names_\n",
    "\n",
    "print('\\nSequential Forward Selection (k=10)')\n",
    "print('CV Score:')\n",
    "print(sfs.k_score_)\n",
    "\n",
    "print('\\nSequential Backward Selection')\n",
    "print('CV Score:')\n",
    "print(sbs.k_score_)"
   ]
  },
  {
   "cell_type": "code",
   "execution_count": 24,
   "metadata": {},
   "outputs": [],
   "source": [
    "sfs_df = pd.DataFrame.from_dict(sfs.get_metric_dict()).T\n",
    "sbs_df = pd.DataFrame.from_dict(sbs.get_metric_dict()).T "
   ]
  },
  {
   "cell_type": "code",
   "execution_count": 25,
   "metadata": {},
   "outputs": [
    {
     "data": {
      "text/html": [
       "<div>\n",
       "<style scoped>\n",
       "    .dataframe tbody tr th:only-of-type {\n",
       "        vertical-align: middle;\n",
       "    }\n",
       "\n",
       "    .dataframe tbody tr th {\n",
       "        vertical-align: top;\n",
       "    }\n",
       "\n",
       "    .dataframe thead th {\n",
       "        text-align: right;\n",
       "    }\n",
       "</style>\n",
       "<table border=\"1\" class=\"dataframe\">\n",
       "  <thead>\n",
       "    <tr style=\"text-align: right;\">\n",
       "      <th></th>\n",
       "      <th>feature_idx</th>\n",
       "      <th>cv_scores</th>\n",
       "      <th>avg_score</th>\n",
       "      <th>feature_names</th>\n",
       "      <th>ci_bound</th>\n",
       "      <th>std_dev</th>\n",
       "      <th>std_err</th>\n",
       "    </tr>\n",
       "  </thead>\n",
       "  <tbody>\n",
       "    <tr>\n",
       "      <th>1</th>\n",
       "      <td>(11,)</td>\n",
       "      <td>[0.6809994545950367, 0.6653834926658396, 0.679...</td>\n",
       "      <td>0.676624</td>\n",
       "      <td>(cat__encoder__internet_service_Fiber optic,)</td>\n",
       "      <td>0.010432</td>\n",
       "      <td>0.006508</td>\n",
       "      <td>0.003757</td>\n",
       "    </tr>\n",
       "    <tr>\n",
       "      <th>2</th>\n",
       "      <td>(5, 11)</td>\n",
       "      <td>[0.7649622761567131, 0.7478563088374809, 0.760...</td>\n",
       "      <td>0.763665</td>\n",
       "      <td>(num__kbd__total_charges, cat__encoder__intern...</td>\n",
       "      <td>0.019024</td>\n",
       "      <td>0.011868</td>\n",
       "      <td>0.006852</td>\n",
       "    </tr>\n",
       "    <tr>\n",
       "      <th>3</th>\n",
       "      <td>(5, 7, 11)</td>\n",
       "      <td>[0.8056381238069267, 0.7824860432022185, 0.786...</td>\n",
       "      <td>0.795332</td>\n",
       "      <td>(num__kbd__total_charges, cat__encoder__type_T...</td>\n",
       "      <td>0.017526</td>\n",
       "      <td>0.010934</td>\n",
       "      <td>0.006313</td>\n",
       "    </tr>\n",
       "    <tr>\n",
       "      <th>4</th>\n",
       "      <td>(5, 6, 7, 11)</td>\n",
       "      <td>[0.8258771929824562, 0.8007826753265708, 0.813...</td>\n",
       "      <td>0.813439</td>\n",
       "      <td>(num__kbd__total_charges, cat__encoder__type_O...</td>\n",
       "      <td>0.014228</td>\n",
       "      <td>0.008876</td>\n",
       "      <td>0.005125</td>\n",
       "    </tr>\n",
       "    <tr>\n",
       "      <th>5</th>\n",
       "      <td>(5, 6, 7, 9, 11)</td>\n",
       "      <td>[0.8217139350968093, 0.8143768700284609, 0.826...</td>\n",
       "      <td>0.823013</td>\n",
       "      <td>(num__kbd__total_charges, cat__encoder__type_O...</td>\n",
       "      <td>0.009067</td>\n",
       "      <td>0.005656</td>\n",
       "      <td>0.003266</td>\n",
       "    </tr>\n",
       "    <tr>\n",
       "      <th>6</th>\n",
       "      <td>(5, 6, 7, 9, 11, 12)</td>\n",
       "      <td>[0.8264885010453595, 0.818912829307451, 0.8252...</td>\n",
       "      <td>0.825986</td>\n",
       "      <td>(num__kbd__total_charges, cat__encoder__type_O...</td>\n",
       "      <td>0.008193</td>\n",
       "      <td>0.005111</td>\n",
       "      <td>0.002951</td>\n",
       "    </tr>\n",
       "    <tr>\n",
       "      <th>7</th>\n",
       "      <td>(4, 5, 6, 7, 9, 11, 12)</td>\n",
       "      <td>[0.8338832833378784, 0.8089378238341969, 0.833...</td>\n",
       "      <td>0.827354</td>\n",
       "      <td>(num__kbd__monthly_charges, num__kbd__total_ch...</td>\n",
       "      <td>0.017049</td>\n",
       "      <td>0.010636</td>\n",
       "      <td>0.006141</td>\n",
       "    </tr>\n",
       "    <tr>\n",
       "      <th>8</th>\n",
       "      <td>(4, 5, 6, 7, 9, 10, 11, 12)</td>\n",
       "      <td>[0.8212776111262613, 0.8059047288914836, 0.827...</td>\n",
       "      <td>0.821489</td>\n",
       "      <td>(num__kbd__monthly_charges, num__kbd__total_ch...</td>\n",
       "      <td>0.015514</td>\n",
       "      <td>0.009678</td>\n",
       "      <td>0.005588</td>\n",
       "    </tr>\n",
       "    <tr>\n",
       "      <th>9</th>\n",
       "      <td>(4, 5, 6, 7, 8, 9, 10, 11, 12)</td>\n",
       "      <td>[0.8135578583765113, 0.8034919360723928, 0.830...</td>\n",
       "      <td>0.8186</td>\n",
       "      <td>(num__kbd__monthly_charges, num__kbd__total_ch...</td>\n",
       "      <td>0.017265</td>\n",
       "      <td>0.01077</td>\n",
       "      <td>0.006218</td>\n",
       "    </tr>\n",
       "    <tr>\n",
       "      <th>10</th>\n",
       "      <td>(4, 5, 6, 7, 8, 9, 10, 11, 12, 13)</td>\n",
       "      <td>[0.8028088355604035, 0.79586130774283, 0.82043...</td>\n",
       "      <td>0.809664</td>\n",
       "      <td>(num__kbd__monthly_charges, num__kbd__total_ch...</td>\n",
       "      <td>0.017027</td>\n",
       "      <td>0.010622</td>\n",
       "      <td>0.006133</td>\n",
       "    </tr>\n",
       "  </tbody>\n",
       "</table>\n",
       "</div>"
      ],
      "text/plain": [
       "                           feature_idx  \\\n",
       "1                                (11,)   \n",
       "2                              (5, 11)   \n",
       "3                           (5, 7, 11)   \n",
       "4                        (5, 6, 7, 11)   \n",
       "5                     (5, 6, 7, 9, 11)   \n",
       "6                 (5, 6, 7, 9, 11, 12)   \n",
       "7              (4, 5, 6, 7, 9, 11, 12)   \n",
       "8          (4, 5, 6, 7, 9, 10, 11, 12)   \n",
       "9       (4, 5, 6, 7, 8, 9, 10, 11, 12)   \n",
       "10  (4, 5, 6, 7, 8, 9, 10, 11, 12, 13)   \n",
       "\n",
       "                                            cv_scores avg_score  \\\n",
       "1   [0.6809994545950367, 0.6653834926658396, 0.679...  0.676624   \n",
       "2   [0.7649622761567131, 0.7478563088374809, 0.760...  0.763665   \n",
       "3   [0.8056381238069267, 0.7824860432022185, 0.786...  0.795332   \n",
       "4   [0.8258771929824562, 0.8007826753265708, 0.813...  0.813439   \n",
       "5   [0.8217139350968093, 0.8143768700284609, 0.826...  0.823013   \n",
       "6   [0.8264885010453595, 0.818912829307451, 0.8252...  0.825986   \n",
       "7   [0.8338832833378784, 0.8089378238341969, 0.833...  0.827354   \n",
       "8   [0.8212776111262613, 0.8059047288914836, 0.827...  0.821489   \n",
       "9   [0.8135578583765113, 0.8034919360723928, 0.830...    0.8186   \n",
       "10  [0.8028088355604035, 0.79586130774283, 0.82043...  0.809664   \n",
       "\n",
       "                                        feature_names  ci_bound   std_dev  \\\n",
       "1       (cat__encoder__internet_service_Fiber optic,)  0.010432  0.006508   \n",
       "2   (num__kbd__total_charges, cat__encoder__intern...  0.019024  0.011868   \n",
       "3   (num__kbd__total_charges, cat__encoder__type_T...  0.017526  0.010934   \n",
       "4   (num__kbd__total_charges, cat__encoder__type_O...  0.014228  0.008876   \n",
       "5   (num__kbd__total_charges, cat__encoder__type_O...  0.009067  0.005656   \n",
       "6   (num__kbd__total_charges, cat__encoder__type_O...  0.008193  0.005111   \n",
       "7   (num__kbd__monthly_charges, num__kbd__total_ch...  0.017049  0.010636   \n",
       "8   (num__kbd__monthly_charges, num__kbd__total_ch...  0.015514  0.009678   \n",
       "9   (num__kbd__monthly_charges, num__kbd__total_ch...  0.017265   0.01077   \n",
       "10  (num__kbd__monthly_charges, num__kbd__total_ch...  0.017027  0.010622   \n",
       "\n",
       "     std_err  \n",
       "1   0.003757  \n",
       "2   0.006852  \n",
       "3   0.006313  \n",
       "4   0.005125  \n",
       "5   0.003266  \n",
       "6   0.002951  \n",
       "7   0.006141  \n",
       "8   0.005588  \n",
       "9   0.006218  \n",
       "10  0.006133  "
      ]
     },
     "execution_count": 25,
     "metadata": {},
     "output_type": "execute_result"
    }
   ],
   "source": [
    "sfs_df"
   ]
  },
  {
   "cell_type": "code",
   "execution_count": 28,
   "metadata": {},
   "outputs": [],
   "source": [
    "os.mkdir(FS_ASSETS)\n",
    "\n",
    "sfs_df.to_csv(f\"{FS_ASSETS}/sfs.csv\")\n",
    "sbs_df.to_csv(f\"{FS_ASSETS}/sbs.csv\") "
   ]
  },
  {
   "cell_type": "code",
   "execution_count": 30,
   "metadata": {},
   "outputs": [
    {
     "data": {
      "image/png": "[encoded data removed]",
      "text/plain": [
       "<Figure size 640x480 with 1 Axes>"
      ]
     },
     "metadata": {},
     "output_type": "display_data"
    },
    {
     "data": {
      "text/plain": [
       "<Figure size 640x480 with 0 Axes>"
      ]
     },
     "metadata": {},
     "output_type": "display_data"
    }
   ],
   "source": [
    "import matplotlib.pyplot as plt\n",
    "from mlxtend.plotting import plot_sequential_feature_selection as plot_sfs\n",
    "\n",
    "fig = plot_sfs(sfs.get_metric_dict(), kind='std_dev')\n",
    "\n",
    "plt.title('Sequential Forward Selection (w. StdDev)')\n",
    "plt.grid()\n",
    "plt.show()\n",
    "\n",
    "plt.savefig(f\"{FS_ASSETS}/sfs.png\") "
   ]
  },
  {
   "cell_type": "code",
   "execution_count": 31,
   "metadata": {},
   "outputs": [
    {
     "data": {
      "image/png": "[encoded data removed]",
      "text/plain": [
       "<Figure size 640x480 with 1 Axes>"
      ]
     },
     "metadata": {},
     "output_type": "display_data"
    },
    {
     "data": {
      "text/plain": [
       "<Figure size 640x480 with 0 Axes>"
      ]
     },
     "metadata": {},
     "output_type": "display_data"
    }
   ],
   "source": [
    "import matplotlib.pyplot as plt\n",
    "from mlxtend.plotting import plot_sequential_feature_selection as plot_sfs\n",
    "\n",
    "fig = plot_sfs(sbs.get_metric_dict(), kind='std_dev')\n",
    "\n",
    "plt.title('Sequential Backward Selection (w. StdDev)')\n",
    "plt.grid()\n",
    "plt.show()\n",
    "\n",
    "plt.savefig(f\"{FS_ASSETS}/sbs.png\") "
   ]
  },
  {
   "cell_type": "code",
   "execution_count": 32,
   "metadata": {},
   "outputs": [],
   "source": [
    "interc_features = list(set(top_sbs) & set(top_sfs))\n",
    "union_features = list(set(top_sbs) | set(top_sfs))"
   ]
  },
  {
   "cell_type": "code",
   "execution_count": 34,
   "metadata": {},
   "outputs": [
    {
     "data": {
      "text/plain": [
       "['cat__encoder__payment_method_Electronic check',\n",
       " 'cat__encoder__internet_service_Fiber optic',\n",
       " 'cat__encoder__type_One year',\n",
       " 'num__kbd__monthly_charges',\n",
       " 'cat__encoder__gender_Male',\n",
       " 'num__kbd__total_charges',\n",
       " 'cat__encoder__type_Two year']"
      ]
     },
     "execution_count": 34,
     "metadata": {},
     "output_type": "execute_result"
    }
   ],
   "source": [
    "interc_features"
   ]
  },
  {
   "cell_type": "code",
   "execution_count": 35,
   "metadata": {},
   "outputs": [],
   "source": [
    "experiment_id = mlflow.get_experiment_by_name(EXPERIMENT_NAME).experiment_id\n",
    "\n",
    "with mlflow.start_run(run_name=f\"{RUN_NAME}_intersection_and_union\", experiment_id=experiment_id) as run:\n",
    "    run_id = run.info.run_id\n",
    "   \n",
    "    mlflow.log_artifacts(FS_ASSETS) "
   ]
  },
  {
   "cell_type": "code",
   "execution_count": null,
   "metadata": {},
   "outputs": [],
   "source": []
  },
  {
   "cell_type": "markdown",
   "metadata": {},
   "source": [
    "### Логирование модели"
   ]
  },
  {
   "cell_type": "code",
   "execution_count": 37,
   "metadata": {},
   "outputs": [],
   "source": [
    "from sklearn.metrics import roc_auc_score, precision_recall_curve, roc_curve, confusion_matrix, precision_score, recall_score, f1_score, log_loss\n",
    "\n",
    "from catboost import CatBoostClassifier\n",
    "from sklearn.metrics import mean_absolute_error, auc"
   ]
  },
  {
   "cell_type": "code",
   "execution_count": 38,
   "metadata": {},
   "outputs": [],
   "source": [
    "model_interc = CatBoostClassifier(iterations=300, verbose=False)\n",
    "model_interc.fit(X_train_features[interc_features], y_train)\n",
    "proba_interc = model_interc.predict_proba(X_test_features[interc_features])[:, 1]\n",
    "prediction_interc = model_interc.predict(X_test_features[interc_features])"
   ]
  },
  {
   "cell_type": "code",
   "execution_count": 39,
   "metadata": {},
   "outputs": [],
   "source": [
    "model_union = CatBoostClassifier(iterations=300, verbose=False)\n",
    "model_union.fit(X_train_features[union_features], y_train)\n",
    "proba_union = model_union.predict_proba(X_test_features[union_features])[:, 1]\n",
    "prediction_union = model_union.predict(X_test_features[union_features])"
   ]
  },
  {
   "cell_type": "code",
   "execution_count": null,
   "metadata": {},
   "outputs": [],
   "source": []
  },
  {
   "cell_type": "code",
   "execution_count": 36,
   "metadata": {},
   "outputs": [
    {
     "data": {
      "text/plain": [
       "'50987e412e7d4769a4805e423027d673'"
      ]
     },
     "execution_count": 36,
     "metadata": {},
     "output_type": "execute_result"
    }
   ],
   "source": []
  },
  {
   "cell_type": "code",
   "execution_count": 40,
   "metadata": {},
   "outputs": [
    {
     "name": "stderr",
     "output_type": "stream",
     "text": [
      "Registered model 'churn_model_alexdem_b2c' already exists. Creating a new version of this model...\n",
      "2025/06/04 20:17:35 INFO mlflow.tracking._model_registry.client: Waiting up to 60 seconds for model version to finish creation. Model name: churn_model_alexdem_b2c, version 7\n",
      "Created version '7' of model 'churn_model_alexdem_b2c'.\n"
     ]
    }
   ],
   "source": [
    "EXPERIMENT_NAME = \"churn_task_alexdem\"\n",
    "RUN_NAME = \"model_interc\"\n",
    "REGISTRY_MODEL_NAME = \"churn_model_alexdem_b2c\"\n",
    "\n",
    "pip_requirements= \"./requirements.txt\"\n",
    "signature = mlflow.models.infer_signature(X_test_features[interc_features].values, prediction_interc)\n",
    "input_example = X_test_features[interc_features][:10]\n",
    "metadata = {'model_type': 'monthly'}\n",
    "\n",
    "\n",
    "experiment_id = mlflow.get_experiment_by_name(EXPERIMENT_NAME).experiment_id\n",
    "\n",
    "with mlflow.start_run(run_name=RUN_NAME, experiment_id=experiment_id) as run:\n",
    "    run_id = run.info.run_id\n",
    "    \n",
    "    model_info = mlflow.catboost.log_model( \n",
    "\t\t\tcb_model=model_interc,\n",
    "            artifact_path=\"models\",\n",
    "            registered_model_name=REGISTRY_MODEL_NAME,\n",
    "            pip_requirements=pip_requirements,\n",
    "            signature=signature,\n",
    "            input_example=input_example,\n",
    "            metadata=metadata,\n",
    "            await_registration_for=60\n",
    "\t\t)\n",
    "    _, err1, _, err2 = confusion_matrix(y_test, prediction_interc).ravel()\n",
    "    auc = roc_auc_score(y_test, proba_interc)\n",
    "    logloss = log_loss(y_test, proba_interc)\n",
    "    mlflow.log_metrics({'auc': auc, 'logloss': logloss, 'err1': err1, 'err2': err2})"
   ]
  },
  {
   "cell_type": "code",
   "execution_count": 41,
   "metadata": {},
   "outputs": [
    {
     "name": "stderr",
     "output_type": "stream",
     "text": [
      "/home/mle-user/.local/lib/python3.10/site-packages/_distutils_hack/__init__.py:15: UserWarning: Distutils was imported before Setuptools, but importing Setuptools also replaces the `distutils` module in `sys.modules`. This may lead to undesirable behaviors or errors. To avoid these issues, avoid using distutils directly, ensure that setuptools is installed in the traditional way (e.g. not an editable install), and/or make sure that setuptools is always imported before distutils.\n",
      "  warnings.warn(\n",
      "/home/mle-user/.local/lib/python3.10/site-packages/_distutils_hack/__init__.py:30: UserWarning: Setuptools is replacing distutils. Support for replacing an already imported distutils is deprecated. In the future, this condition will fail. Register concerns at https://github.com/pypa/setuptools/issues/new?template=distutils-deprecation.yml\n",
      "  warnings.warn(\n",
      "Registered model 'churn_model_alexdem_b2c' already exists. Creating a new version of this model...\n",
      "2025/06/04 20:17:37 INFO mlflow.tracking._model_registry.client: Waiting up to 60 seconds for model version to finish creation. Model name: churn_model_alexdem_b2c, version 8\n",
      "Created version '8' of model 'churn_model_alexdem_b2c'.\n"
     ]
    }
   ],
   "source": [
    "EXPERIMENT_NAME = \"churn_task_alexdem\"\n",
    "RUN_NAME = \"model_union\"\n",
    "REGISTRY_MODEL_NAME = \"churn_model_alexdem_b2c\"\n",
    "\n",
    "pip_requirements= \"./requirements.txt\"\n",
    "signature = mlflow.models.infer_signature(X_test_features[union_features].values, prediction_union)\n",
    "input_example = X_test_features[union_features][:10]\n",
    "metadata = {'model_type': 'monthly'}\n",
    "\n",
    "\n",
    "experiment_id = mlflow.get_experiment_by_name(EXPERIMENT_NAME).experiment_id\n",
    "\n",
    "with mlflow.start_run(run_name=RUN_NAME, experiment_id=experiment_id) as run:\n",
    "    run_id = run.info.run_id\n",
    "    \n",
    "    model_info = mlflow.catboost.log_model( \n",
    "\t\t\tcb_model=model_union,\n",
    "            artifact_path=\"models\",\n",
    "            registered_model_name=REGISTRY_MODEL_NAME,\n",
    "            pip_requirements=pip_requirements,\n",
    "            signature=signature,\n",
    "            input_example=input_example,\n",
    "            metadata=metadata,\n",
    "            await_registration_for=60\n",
    "\t\t)\n",
    "    _, err1, _, err2 = confusion_matrix(y_test, prediction_union).ravel()\n",
    "    auc = roc_auc_score(y_test, proba_union)\n",
    "    logloss = log_loss(y_test, proba_union)\n",
    "    mlflow.log_metrics({'auc': auc, 'logloss': logloss, 'err1': err1, 'err2': err2})"
   ]
  },
  {
   "cell_type": "code",
   "execution_count": null,
   "metadata": {},
   "outputs": [],
   "source": []
  },
  {
   "cell_type": "code",
   "execution_count": null,
   "metadata": {},
   "outputs": [],
   "source": []
  }
 ],
 "metadata": {
  "kernelspec": {
   "display_name": "Python 3",
   "language": "python",
   "name": "python3"
  },
  "language_info": {
   "codemirror_mode": {
    "name": "ipython",
    "version": 3
   },
   "file_extension": ".py",
   "mimetype": "text/x-python",
   "name": "python",
   "nbconvert_exporter": "python",
   "pygments_lexer": "ipython3",
   "version": "3.10.12"
  }
 },
 "nbformat": 4,
 "nbformat_minor": 2
}
